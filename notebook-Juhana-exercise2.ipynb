{
 "cells": [
  {
   "cell_type": "markdown",
   "metadata": {},
   "source": [
    "# Plotting univariate data in ggplot\n",
    "\n",
    "Updating notebook 1 to also include `borough`."
   ]
  },
  {
   "cell_type": "markdown",
   "metadata": {},
   "source": [
    "### Python and R Setup\n",
    "\n",
    "This setup allows you to use *Python* and *R* in the same notebook.\n",
    "\n",
    "To set up a similar notebook, see quickstart instructions here:\n",
    "\n",
    "https://github.com/dmil/jupyter-quickstart\n",
    "\n"
   ]
  },
  {
   "cell_type": "code",
   "execution_count": 1,
   "metadata": {},
   "outputs": [
    {
     "name": "stderr",
     "output_type": "stream",
     "text": [
      "C:\\Users\\Juhana\\scoop\\apps\\pyenv\\current\\pyenv-win\\versions\\3.11.0rc2\\Lib\\site-packages\\rpy2\\robjects\\packages.py:367: UserWarning: The symbol 'quartz' is not in this R namespace/package.\n",
      "  warnings.warn(\n"
     ]
    }
   ],
   "source": [
    "%load_ext rpy2.ipython\n",
    "%load_ext autoreload\n",
    "%autoreload 2\n",
    "\n",
    "%matplotlib inline  \n",
    "from matplotlib import rcParams\n",
    "rcParams['figure.figsize'] = (16, 100)\n",
    "\n",
    "import warnings\n",
    "from rpy2.rinterface import RRuntimeWarning\n",
    "warnings.filterwarnings(\"ignore\") # Ignore all warnings\n",
    "# warnings.filterwarnings(\"ignore\", category=RRuntimeWarning) # Show some warnings\n",
    "\n",
    "import pandas as pd\n",
    "import numpy as np\n",
    "import matplotlib.pyplot as plt\n",
    "from IPython.display import display, HTML"
   ]
  },
  {
   "cell_type": "code",
   "execution_count": 2,
   "metadata": {},
   "outputs": [
    {
     "data": {
      "application/javascript": "// Disable auto-scrolling\nIPython.OutputArea.prototype._should_scroll = function(lines) {\n    return false;\n}\n",
      "text/plain": [
       "<IPython.core.display.Javascript object>"
      ]
     },
     "metadata": {},
     "output_type": "display_data"
    }
   ],
   "source": [
    "%%javascript\n",
    "// Disable auto-scrolling\n",
    "IPython.OutputArea.prototype._should_scroll = function(lines) {\n",
    "    return false;\n",
    "}"
   ]
  },
  {
   "cell_type": "markdown",
   "metadata": {},
   "source": [
    "### Import packages in R"
   ]
  },
  {
   "cell_type": "code",
   "execution_count": 3,
   "metadata": {},
   "outputs": [
    {
     "name": "stderr",
     "output_type": "stream",
     "text": [
      "R[write to console]: Loading required package: tidyverse\n",
      "\n"
     ]
    },
    {
     "name": "stdout",
     "output_type": "stream",
     "text": [
      "-- Attaching packages --------------------------------------- tidyverse 1.3.2 --\n",
      "v ggplot2 3.4.0      v purrr   1.0.1 \n",
      "v tibble  3.1.8      v dplyr   1.0.10\n",
      "v tidyr   1.2.1      v stringr 1.4.1 \n",
      "v readr   2.1.3      v forcats 0.5.2 \n",
      "-- Conflicts ------------------------------------------ tidyverse_conflicts() --\n",
      "x dplyr::filter() masks stats::filter()\n",
      "x dplyr::lag()    masks stats::lag()\n"
     ]
    }
   ],
   "source": [
    "%%R\n",
    "\n",
    "require('tidyverse')\n"
   ]
  },
  {
   "cell_type": "markdown",
   "metadata": {},
   "source": [
    "### Read data"
   ]
  },
  {
   "cell_type": "code",
   "execution_count": 4,
   "metadata": {},
   "outputs": [
    {
     "name": "stdout",
     "output_type": "stream",
     "text": [
      "Rows: 189 Columns: 12\n",
      "-- Column specification --------------------------------------------------------\n",
      "Delimiter: \",\"\n",
      "chr  (1): borough\n",
      "dbl (11): zip, population, pct_hispanic_or_latino, pct_asian, pct_american_i...\n",
      "\n",
      "i Use `spec()` to retrieve the full column specification for this data.\n",
      "i Specify the column types or set `show_col_types = FALSE` to quiet this message.\n",
      "# A tibble: 189 x 12\n",
      "     zip popul~1 borough pct_h~2 pct_a~3 pct_a~4 pct_b~5 pct_w~6 pct_n~7 pct_s~8\n",
      "   <dbl>   <dbl> <chr>     <dbl>   <dbl>   <dbl>   <dbl>   <dbl>   <dbl>   <dbl>\n",
      " 1 11368  112088 QUEENS    76.5    11.6     0.09    7.12    3.73    0       0.37\n",
      " 2 11385  107796 QUEENS    45.0     6.46    0.03    1.77   45.3     0       0.32\n",
      " 3 11211  103123 BROOKL~   24.1     5.53    0.19    3.56   64.2     0.02    0.29\n",
      " 4 11208  101313 BROOKL~   40.6     6.01    0.03   48.9     2.71    0       0.76\n",
      " 5 10467  101255 BRONX     52.1     5.68    0.35   30.4     9.24    0.02    0.76\n",
      " 6 11236  100844 BROOKL~    7.66    2.58    0.09   84.0     4.13    0       0.44\n",
      " 7 11226   99558 BROOKL~   16.4     3.07    0.15   64.8    13.0     0       0.71\n",
      " 8 11373   94437 QUEENS    41.7    48.5     0.34    1.62    6.18    0.01    0.5 \n",
      " 9 11234   93534 BROOKL~   11.1     7.19    0.13   42.9    37.2     0       0.26\n",
      "10 11220   93170 BROOKL~   41.3    41.4     0.07    1.9    13.9     0       0.25\n",
      "# ... with 179 more rows, 2 more variables: pct_two_or_more_races <dbl>,\n",
      "#   pct_below_poverty <dbl>, and abbreviated variable names 1: population,\n",
      "#   2: pct_hispanic_or_latino, 3: pct_asian,\n",
      "#   4: pct_american_indian_and_alaska_native, 5: pct_black_or_african_american,\n",
      "#   6: pct_white, 7: pct_native_hawaiian_and_other_pacific_islander,\n",
      "#   8: pct_some_other_race\n",
      "# i Use `print(n = ...)` to see more rows, and `colnames()` to see all variable names\n"
     ]
    }
   ],
   "source": [
    "%%R\n",
    "\n",
    "# Read data\n",
    "df <- read_csv('housing_data.csv')\n",
    "df"
   ]
  },
  {
   "cell_type": "markdown",
   "metadata": {},
   "source": [
    "### Histogram\n",
    "\n",
    "👉 Try It\n",
    "\n",
    "Grab your histogram code from the previous exercise (or just use the sample below) \n",
    "\n",
    "- modify the code to plot one histogram per borough \n",
    "- add a meaningful title and subtitle and axis labels\n",
    "\n",
    "_(hint: this may require you to look up how `facet_wrap` works)._"
   ]
  },
  {
   "cell_type": "code",
   "execution_count": 5,
   "metadata": {},
   "outputs": [
    {
     "name": "stdout",
     "output_type": "stream",
     "text": [
      "`stat_bin()` using `bins = 30`. Pick better value with `binwidth`.\n"
     ]
    },
    {
     "data": {
      "image/png": "[encoded data removed]"
     },
     "metadata": {},
     "output_type": "display_data"
    }
   ],
   "source": [
    "%%R \n",
    "\n",
    "ggplot(df) + \n",
    "    aes(x=pct_below_poverty) +\n",
    "    geom_histogram() +\n",
    "    facet_wrap(vars(borough)) +\n",
    "    labs(title = \"There are many zip codes in Queens where up to 20% of population live below poverty line\",\n",
    "        subtitle = \"y=number of zip codes, x=percentage of population below poverty line\"\n",
    "        )"
   ]
  },
  {
   "cell_type": "markdown",
   "metadata": {},
   "source": [
    "### Dotplot"
   ]
  },
  {
   "cell_type": "markdown",
   "metadata": {},
   "source": [
    "👉 Try It\n",
    "\n",
    "Grab your dotplot code from the previous exercise (or just use the sample below) \n",
    "\n",
    "- modify the code to plot one plot per borough \n",
    "- add a meaningful title and subtitle and axis labels\n",
    "\n",
    "_(hint: you might want to change the `y` aesthetic instead of using `facet_wrap`)._"
   ]
  },
  {
   "cell_type": "code",
   "execution_count": 6,
   "metadata": {},
   "outputs": [
    {
     "data": {
      "image/png": "[encoded data removed]"
     },
     "metadata": {},
     "output_type": "display_data"
    }
   ],
   "source": [
    "%%R -w 1000 -h 200\n",
    "\n",
    "ggplot(df) + \n",
    "    aes(x=pct_below_poverty, y=borough) +\n",
    "    geom_point(alpha=.3, size=10)"
   ]
  },
  {
   "cell_type": "markdown",
   "metadata": {},
   "source": [
    "### Dotplot (with jitter)"
   ]
  },
  {
   "cell_type": "markdown",
   "metadata": {},
   "source": [
    "👉 Try It\n",
    "\n",
    "Grab your dotplot code from the previous exercise (or just use the sample below) \n",
    "\n",
    "- modify the code to plot one plot per borough \n",
    "- add a meaningful title and subtitle and axis labels\n",
    "\n",
    "_(hint: you might also need to mess with the y axis, but also the colors of the dots)._"
   ]
  },
  {
   "cell_type": "code",
   "execution_count": 7,
   "metadata": {},
   "outputs": [
    {
     "data": {
      "image/png": "[encoded data removed]"
     },
     "metadata": {},
     "output_type": "display_data"
    }
   ],
   "source": [
    "%%R -w 1000 -h 200\n",
    "\n",
    "ggplot(df) + \n",
    "    aes(x=pct_below_poverty, y=borough) +\n",
    "    geom_jitter() +\n",
    "    labs(title = \"In many NYC zip codes 10-20% of population live below poverty line\",\n",
    "        subtitle = \"x=percentage of population below poverty line\"\n",
    "        ) +\n",
    "     xlab(NULL) +\n",
    "     ylab(NULL) +\n",
    "     theme_minimal()"
   ]
  },
  {
   "cell_type": "markdown",
   "metadata": {},
   "source": [
    "### Density Plot"
   ]
  },
  {
   "cell_type": "markdown",
   "metadata": {},
   "source": [
    "👉 Try It\n",
    "\n",
    "Grab your density plot code from the previous exercise (or just use the sample below)\n",
    "\n",
    "- modify the code to plot one plot per borough\n"
   ]
  },
  {
   "cell_type": "code",
   "execution_count": 8,
   "metadata": {},
   "outputs": [
    {
     "data": {
      "image/png": "[encoded data removed]"
     },
     "metadata": {},
     "output_type": "display_data"
    }
   ],
   "source": [
    "%%R -w 1000 -h 200\n",
    "ggplot(df) + \n",
    "    aes(x=pct_below_poverty) +\n",
    "    geom_density() +\n",
    "    facet_wrap(vars(borough))"
   ]
  },
  {
   "cell_type": "markdown",
   "metadata": {},
   "source": [
    "### Box and Whisker Plot\n",
    "http://www.sthda.com/english/wiki/ggplot2-box-plot-quick-start-guide-r-software-and-data-visualization\n",
    "\n"
   ]
  },
  {
   "cell_type": "markdown",
   "metadata": {},
   "source": [
    "👉 Try It\n",
    "\n",
    "Grab your box and whisker plot code from the previous exercise (or just use the sample below)\n",
    "\n",
    "- modify the code to plot one plot per borough\n",
    "- add a title and subtitle that helps tell a story with this chart\n",
    "\n",
    "👉 Bonus\n",
    "- see if you can annotate the biggest oulier\n"
   ]
  },
  {
   "cell_type": "markdown",
   "metadata": {},
   "source": [
    "### I couldn't figure out a way to add a title and a subtitle to this chart."
   ]
  },
  {
   "cell_type": "code",
   "execution_count": 9,
   "metadata": {},
   "outputs": [
    {
     "data": {
      "image/png": "[encoded data removed]"
     },
     "metadata": {},
     "output_type": "display_data"
    }
   ],
   "source": [
    "%%R -w 1000 -h 200\n",
    "\n",
    "outliers_df <- df %>% \n",
    "    filter(pct_below_poverty > 40)\n",
    "\n",
    "ggplot(df) + \n",
    "    aes(x=pct_below_poverty, y=1) +\n",
    "    geom_boxplot(alpha=.2,outlier.size=10) +\n",
    "    geom_text(data=outliers_df, color=\"red\", size=5, aes(label=paste(borough, \"\\n\", zip)))"
   ]
  },
  {
   "cell_type": "markdown",
   "metadata": {},
   "source": [
    "👉 Try It\n",
    "\n",
    "Grab your violin plot code from the previous exercise (or just use the sample below)\n",
    "\n",
    "- modify the code to plot one plot per borough\n",
    "- write about how this chart looks different from the box and whisker plot and for what purpose it may be more useful\n",
    "> To layperson's eye both box and violion plots seem to tell the similar story; I googled for insights and found this bit in [towardsdatascience](https://towardsdatascience.com/violin-plots-explained-fb1d115e023d): it shows the entire distribution of the data especially when dealing with multimodal data whose distribution has more than one peak."
   ]
  },
  {
   "cell_type": "code",
   "execution_count": 32,
   "metadata": {},
   "outputs": [
    {
     "data": {
      "image/png": "[encoded data removed]"
     },
     "metadata": {},
     "output_type": "display_data"
    }
   ],
   "source": [
    "%%R -w 1000 -h 200\n",
    "\n",
    "ggplot(df) + \n",
    "    aes(x=pct_below_poverty, y=borough) +\n",
    "    geom_violin()"
   ]
  },
  {
   "cell_type": "markdown",
   "metadata": {},
   "source": [
    "### Beeswarm \n",
    "👉 Bonus\n",
    "\n",
    "Grab your beeswarm code from the previous exercise\n",
    "\n",
    "- modify the code to plot one plot per borough\n",
    "- add a title and subtitle that helps tell a story with this chart"
   ]
  },
  {
   "cell_type": "code",
   "execution_count": null,
   "metadata": {},
   "outputs": [],
   "source": [
    "library(beeswarm)\n",
    "ggplot(df, aes(x=pct_below_poverty, y=1) +\n",
    "       geom_beeswarm(cex = 2.5, method = \"center\")"
   ]
  }
 ],
 "metadata": {
  "kernelspec": {
   "display_name": "Python 3 (ipykernel)",
   "language": "python",
   "name": "python3"
  },
  "language_info": {
   "codemirror_mode": {
    "name": "ipython",
    "version": 3
   },
   "file_extension": ".py",
   "mimetype": "text/x-python",
   "name": "python",
   "nbconvert_exporter": "python",
   "pygments_lexer": "ipython3",
   "version": "3.11.0rc2"
  }
 },
 "nbformat": 4,
 "nbformat_minor": 2
}
